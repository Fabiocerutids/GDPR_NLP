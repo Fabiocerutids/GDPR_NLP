{
 "cells": [
  {
   "cell_type": "markdown",
   "metadata": {},
   "source": [
    "# Read Chunk Clean\n",
    "The following notebook imports GDPR Data from a PDF File and performs the following operations:\n",
    "- Chunks the data so as to have a dictionary of the following form: dict[Chapter][Article]\n",
    "- Cleans the data by removing: whitespaces, punctuation and lemmatizing each token\n",
    "\n",
    "The data is finally saved for later usage"
   ]
  },
  {
   "cell_type": "code",
   "execution_count": 1,
   "metadata": {},
   "outputs": [],
   "source": [
    "#pip install typer==0.3.0"
   ]
  },
  {
   "cell_type": "code",
   "execution_count": null,
   "metadata": {},
   "outputs": [],
   "source": [
    "import fitz \n",
    "import re\n",
    "import json \n",
    "from collections import defaultdict\n",
    "import spacy\n",
    "import nltk\n",
    "from nltk.corpus import stopwords, words\n",
    "import string \n",
    "from tqdm import tqdm "
   ]
  },
  {
   "cell_type": "code",
   "execution_count": null,
   "metadata": {},
   "outputs": [
    {
     "name": "stdout",
     "output_type": "stream",
     "text": [
      "Number of Pages available: 88\n",
      "Number of Tokens: 360940\n"
     ]
    }
   ],
   "source": [
    "doc = fitz.open('../../data/original_data/gdpr_text.pdf')\n",
    "print('Number of Pages available:', doc.page_count)\n",
    "full_text = ' '.join(page.get_text() for page in doc)\n",
    "print('Number of Tokens:', len(full_text))"
   ]
  },
  {
   "cell_type": "code",
   "execution_count": null,
   "metadata": {},
   "outputs": [],
   "source": [
    "#Identify Chapters and Articles available in the tex\n",
    "all_chapters = re.findall(r'CHAPTER .+\\n', full_text)\n",
    "all_articles = re.findall(r'Article [0-9]+ \\n', full_text)\n",
    "gdpr_chunked = defaultdict(dict)\n",
    "\n",
    "chapter_i_pos = re.search(fr'{all_chapters[0]}', full_text).span()\n",
    "gdpr_chunked['Legislative acts']['Regulation']=full_text[36:chapter_i_pos[0]].replace('\\n', '').strip()\n",
    "previous_start = chapter_i_pos[1]\n",
    "\n",
    "#For each chapter identify its start and finish and concatenate its text\n",
    "for ch in range(len(all_chapters)):\n",
    "    if ch != len(all_chapters)-1:\n",
    "        end_part = re.search(fr'{all_chapters[ch+1]}', full_text).span()[0]\n",
    "        next_start = re.search(fr'{all_chapters[ch+1]}', full_text).span()[1]\n",
    "        relevant_text = full_text[previous_start:end_part]\n",
    "    else:\n",
    "        relevant_text = full_text[previous_start:]\n",
    "\n",
    "#On each relevant text section look for the articles available in it        \n",
    "    chapt_name_idx = relevant_text.find('\\n')\n",
    "    for art in range(len(all_articles)-1):\n",
    "        if re.search(fr'{all_articles[art]}', relevant_text)!=None:\n",
    "            start_art_numb = re.search(fr'{all_articles[art]}', relevant_text).span()[0]\n",
    "            start_part_art = re.search(fr'{all_articles[art]}', relevant_text).span()[1]\n",
    "            if art != len(all_chapters)-1 and re.search(fr'{all_articles[art+1]}', relevant_text)!=None:\n",
    "                end_part_art = re.search(fr'{all_articles[art+1]}', relevant_text).span()[0]\n",
    "                art_text = relevant_text[start_part_art:end_part_art]\n",
    "                art_name_idx = art_text.find('\\n')\n",
    "                #Create a clean article name\n",
    "                art_key = relevant_text[start_art_numb:start_part_art]+'- '+art_text[:art_name_idx].strip()\n",
    "                art_key = art_key.replace('\\n','').strip()\n",
    "                gdpr_chunked[relevant_text[:chapt_name_idx].strip()][art_key]=art_text[art_name_idx:].replace('\\n', '').strip()\n",
    "            else: \n",
    "                art_text=relevant_text[start_part_art:]\n",
    "                art_name_idx = art_text.find('\\n')\n",
    "                #Create a clean article name\n",
    "                art_key = relevant_text[start_art_numb:start_part_art]+'- '+art_text[:art_name_idx].strip()\n",
    "                art_key = art_key.replace('\\n','').strip()\n",
    "                gdpr_chunked[relevant_text[:chapt_name_idx].strip()][art_key]=art_text[art_name_idx:].replace('\\n', '').strip()\n",
    "    \n",
    "    previous_start = next_start"
   ]
  },
  {
   "cell_type": "code",
   "execution_count": null,
   "metadata": {},
   "outputs": [],
   "source": [
    "# python -m spacy download en_core_web_sm\n",
    "nltk.download('stopwords')"
   ]
  },
  {
   "cell_type": "code",
   "execution_count": null,
   "metadata": {},
   "outputs": [],
   "source": [
    "#Create stopwords list\n",
    "nlp = spacy.load(\"en_core_web_sm\", disable=['ner', 'textcat'])\n",
    "clean_stopwords = set(stopwords.words('english')).difference(set('not'))\n",
    "clean_punctuation = ''.join(set(string.punctuation).difference(set(['()', '(', ')', '/'])))"
   ]
  },
  {
   "cell_type": "code",
   "execution_count": null,
   "metadata": {},
   "outputs": [],
   "source": [
    "#Define lemmatization function\n",
    "def lemmatize(text):\n",
    "    return ' '.join(token.lemma_ for token in nlp(text))"
   ]
  },
  {
   "cell_type": "code",
   "execution_count": null,
   "metadata": {},
   "outputs": [
    {
     "name": "stderr",
     "output_type": "stream",
     "text": [
      "100%|██████████| 12/12 [00:04<00:00,  2.42it/s]\n"
     ]
    }
   ],
   "source": [
    "#Create a clean gdpr dictionary\n",
    "gdpr_clean = defaultdict(dict)\n",
    "for k in tqdm(gdpr_chunked.keys()):\n",
    "    for sub_k in gdpr_chunked[k].keys():\n",
    "        text = gdpr_chunked[k][sub_k]\n",
    "        #Remove punctuation\n",
    "        text = text.translate(str.maketrans('', '', clean_punctuation)) \n",
    "        #Remove extra whitespaces, stopwords and lemmatize\n",
    "        text = ' '.join(i.lower().strip() for i in lemmatize(text).split() if i not in clean_stopwords and len(i)>=2)\n",
    "        #remove header\n",
    "        text = re.sub(r'452016 119/[0-9]+ official journal european union en', '', text)\n",
    "        gdpr_clean[k][sub_k] = text"
   ]
  },
  {
   "cell_type": "code",
   "execution_count": null,
   "metadata": {},
   "outputs": [
    {
     "name": "stdout",
     "output_type": "stream",
     "text": [
      "dict_keys(['Regulation'])\n",
      "dict_keys(['Article 1 - Subject-matter and objectives', 'Article 2 - Material scope', 'Article 3 - Territorial scope', 'Article 4 - Definitions'])\n",
      "dict_keys(['Article 5 - Principles relating to processing of personal data', 'Article 6 - Lawfulness of processing', 'Article 7 - Conditions for consent', \"Article 8 - Conditions applicable to child's consent in relation to information society services\", 'Article 9 - Processing of special categories of personal data', 'Article 10 - Processing of personal data relating to criminal convictions and offences', 'Article 11 - Processing which does not require identification'])\n",
      "dict_keys(['Article 12 - Transparent information, communication and modalities for the exercise of the rights of the data', 'Article 13 - Information to be provided where personal data are collected from the data subject', 'Article 14 - Information to be provided where personal data have not been obtained from the data subject', 'Article 15 - Right of access by the data subject', 'Article 16 - Right to rectification', 'Article 17 - Right to erasure (‘right to be forgotten’)', 'Article 18 - Right to restriction of processing', 'Article 19 - Notification obligation regarding rectification or erasure of personal data or restriction of', 'Article 20 - Right to data portability', 'Article 21 - Right to object', 'Article 22 - Automated individual decision-making, including profiling', 'Article 23 - Restrictions'])\n",
      "dict_keys(['Article 24 - Responsibility of the controller', 'Article 25 - Data protection by design and by default', 'Article 26 - Joint controllers', 'Article 27 - Representatives of controllers or processors not established in the Union', 'Article 28 - Processor', 'Article 29 - Processing under the authority of the controller or processor', 'Article 30 - Records of processing activities', 'Article 31 - Cooperation with the supervisory authority', 'Article 32 - Security of processing', 'Article 33 - Notification of a personal data breach to the supervisory authority', 'Article 34 - Communication of a personal data breach to the data subject', 'Article 35 - Data protection impact assessment', 'Article 36 - Prior consultation', 'Article 37 - Designation of the data protection officer', 'Article 38 - Position of the data protection officer', 'Article 39 - Tasks of the data protection officer', 'Article 40 - Codes of conduct', 'Article 41 - Monitoring of approved codes of conduct', 'Article 42 - Certification', 'Article 43 - Certification bodies'])\n",
      "dict_keys(['Article 44 - General principle for transfers', 'Article 45 - Transfers on the basis of an adequacy decision', 'Article 46 - Transfers subject to appropriate safeguards', 'Article 47 - Binding corporate rules', 'Article 48 - Transfers or disclosures not authorised by Union law', 'Article 49 - Derogations for specific situations', 'Article 50 - International cooperation for the protection of personal data'])\n",
      "dict_keys(['Article 41 - and of a certification body pursuant to Article 43;', 'Article 51 - Supervisory authority', 'Article 52 - Independence', 'Article 53 - General conditions for the members of the supervisory authority', 'Article 54 - Rules on the establishment of the supervisory authority', 'Article 55 - Competence', 'Article 56 - Competence of the lead supervisory authority', 'Article 57 - Tasks', 'Article 58 - Powers', 'Article 59 - Activity reports'])\n",
      "dict_keys(['Article 60 - Cooperation between the lead supervisory authority and the other supervisory authorities', 'Article 61 - Mutual assistance', 'Article 62 - Joint operations of supervisory authorities', 'Article 63 - Consistency mechanism', 'Article 64 - Opinion of the Board', 'Article 65 - Dispute resolution by the Board', 'Article 66 - Urgency procedure', 'Article 67 - Exchange of information', 'Article 68 - European Data Protection Board', 'Article 69 - Independence', 'Article 70 - Tasks of the Board', 'Article 71 - Reports', 'Article 72 - Procedure', 'Article 73 - Chair', 'Article 74 - Tasks of the Chair', 'Article 75 - Secretariat', 'Article 76 - Confidentiality'])\n",
      "dict_keys(['Article 77 - Right to lodge a complaint with a supervisory authority', 'Article 78 - Right to an effective judicial remedy against a supervisory authority', 'Article 79 - Right to an effective judicial remedy against a controller or processor', 'Article 80 - Representation of data subjects', 'Article 81 - Suspension of proceedings', 'Article 82 - Right to compensation and liability', 'Article 83 - General conditions for imposing administrative fines', 'Article 84 - Penalties'])\n",
      "dict_keys(['Article 85 - Processing and freedom of expression and information', 'Article 86 - Processing and public access to official documents', 'Article 87 - Processing of the national identification number', 'Article 88 - Processing in the context of employment', 'Article 89 - Safeguards and derogations relating to processing for archiving purposes in the public interest,', 'Article 90 - Obligations of secrecy', 'Article 91 - Existing data protection rules of churches and religious associations'])\n",
      "dict_keys(['Article 92 - Exercise of the delegation', 'Article 93 - Committee procedure'])\n",
      "dict_keys(['Article 94 - Repeal of Directive 95/46/EC', 'Article 95 - Relationship with Directive 2002/58/EC', 'Article 96 - Relationship with previously concluded Agreements', 'Article 97 - Commission reports', 'Article 98 - Review of other Union legal acts on data protection'])\n"
     ]
    }
   ],
   "source": [
    "#Print all the articles to verify they are correct\n",
    "for k in gdpr_clean.keys():\n",
    "    print(gdpr_clean[k].keys())"
   ]
  },
  {
   "cell_type": "code",
   "execution_count": null,
   "metadata": {},
   "outputs": [],
   "source": [
    "#Eliminate wrong article\n",
    "del gdpr_clean['Independent supervisory authorities']['Article 41 - and of a certification body pursuant to Article 43;']"
   ]
  },
  {
   "cell_type": "code",
   "execution_count": null,
   "metadata": {},
   "outputs": [],
   "source": [
    "#Save clean data\n",
    "with open('../../data/chunked_data/gdpr_clean.json', 'w') as f: \n",
    "    json.dump(gdpr_clean, f)"
   ]
  }
 ],
 "metadata": {
  "kernelspec": {
   "display_name": "gdpr_env",
   "language": "python",
   "name": "python3"
  },
  "language_info": {
   "codemirror_mode": {
    "name": "ipython",
    "version": 3
   },
   "file_extension": ".py",
   "mimetype": "text/x-python",
   "name": "python",
   "nbconvert_exporter": "python",
   "pygments_lexer": "ipython3",
   "version": "3.12.3"
  }
 },
 "nbformat": 4,
 "nbformat_minor": 2
}

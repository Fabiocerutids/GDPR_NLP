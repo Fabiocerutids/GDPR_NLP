{
 "cells": [
  {
   "cell_type": "code",
   "execution_count": null,
   "metadata": {},
   "outputs": [],
   "source": [
    "#pip install typer==0.3.0"
   ]
  },
  {
   "cell_type": "code",
   "execution_count": 1,
   "metadata": {},
   "outputs": [],
   "source": [
    "import fitz \n",
    "import re\n",
    "import json \n",
    "from collections import defaultdict\n",
    "import spacy\n",
    "from nltk.corpus import stopwords, words\n",
    "import string \n",
    "from tqdm import tqdm "
   ]
  },
  {
   "cell_type": "code",
   "execution_count": 2,
   "metadata": {},
   "outputs": [
    {
     "name": "stdout",
     "output_type": "stream",
     "text": [
      "Number of Pages available: 88\n",
      "Number of Tokens: 360940\n"
     ]
    }
   ],
   "source": [
    "doc = fitz.open('data/original_data/gdpr_text.pdf')\n",
    "print('Number of Pages available:', doc.page_count)\n",
    "full_text = ' '.join(page.get_text() for page in doc)\n",
    "print('Number of Tokens:', len(full_text))"
   ]
  },
  {
   "cell_type": "code",
   "execution_count": 3,
   "metadata": {},
   "outputs": [],
   "source": [
    "all_chapters = re.findall(r'CHAPTER .+\\n', full_text)\n",
    "all_articles = re.findall(r'\\nArticle [0-9]+ \\n', full_text)\n",
    "gdpr_chunked = defaultdict(dict)\n",
    "\n",
    "chapter_i_pos = re.search(fr'{all_chapters[0]}', full_text).span()\n",
    "gdpr_chunked['Legislative acts']['Regulation']=full_text[36:chapter_i_pos[0]].replace('\\n', '').strip()\n",
    "previous_start = chapter_i_pos[1]\n",
    "\n",
    "for ch in range(len(all_chapters)):\n",
    "    if ch != len(all_chapters)-1:\n",
    "        end_part = re.search(fr'{all_chapters[ch+1]}', full_text).span()[0]\n",
    "        next_start = re.search(fr'{all_chapters[ch+1]}', full_text).span()[1]\n",
    "        relevant_text = full_text[previous_start:end_part]\n",
    "    else:\n",
    "        relevant_text = full_text[previous_start:]\n",
    "        \n",
    "    chapt_name_idx = relevant_text.find('\\n')\n",
    "    for art in range(len(all_articles)-1):\n",
    "        if re.search(fr'{all_articles[art]}', relevant_text)!=None:\n",
    "            start_part_art = re.search(fr'{all_articles[art]}', relevant_text).span()[1]\n",
    "            if art != len(all_chapters)-1 and re.search(fr'{all_articles[art+1]}', relevant_text)!=None:\n",
    "                end_part_art = re.search(fr'{all_articles[art+1]}', relevant_text).span()[0]\n",
    "                art_text = relevant_text[start_part_art:end_part_art]\n",
    "                art_name_idx = art_text.find('\\n')\n",
    "                gdpr_chunked[relevant_text[:chapt_name_idx].strip()][art_text[:art_name_idx].strip()]=art_text[art_name_idx:].replace('\\n', '').strip()\n",
    "            else: \n",
    "                art_text=relevant_text[start_part_art:]\n",
    "                art_name_idx = art_text.find('\\n')\n",
    "                gdpr_chunked[relevant_text[:chapt_name_idx].strip()][art_text[:art_name_idx].strip()]=art_text[art_name_idx:].replace('\\n', '').strip()\n",
    "    \n",
    "    previous_start = next_start"
   ]
  },
  {
   "cell_type": "code",
   "execution_count": 4,
   "metadata": {},
   "outputs": [],
   "source": [
    "with open('data/chunked_data/gdpr_chunk.json', 'w') as f: \n",
    "    json.dump(gdpr_chunked, f)"
   ]
  },
  {
   "cell_type": "code",
   "execution_count": 5,
   "metadata": {},
   "outputs": [],
   "source": [
    "nlp = spacy.load(\"en_core_web_sm\", disable=['ner', 'textcat'])\n",
    "clean_stopwords = set(stopwords.words('english')).difference(set('not'))\n",
    "clean_punctuation = ''.join(set(string.punctuation).difference(set(['()', '(', ')'])))"
   ]
  },
  {
   "cell_type": "code",
   "execution_count": 6,
   "metadata": {},
   "outputs": [],
   "source": [
    "def lemmatize(text):\n",
    "    return ' '.join(token.lemma_ for token in nlp(text))"
   ]
  },
  {
   "cell_type": "code",
   "execution_count": 7,
   "metadata": {},
   "outputs": [
    {
     "name": "stderr",
     "output_type": "stream",
     "text": [
      "100%|██████████| 12/12 [00:04<00:00,  2.95it/s]\n"
     ]
    }
   ],
   "source": [
    "gdpr_clean = defaultdict(dict)\n",
    "for k in tqdm(gdpr_chunked.keys()):\n",
    "    for sub_k in gdpr_chunked[k].keys():\n",
    "        text = gdpr_chunked[k][sub_k]\n",
    "        #Remove punctuation\n",
    "        text = text.translate(str.maketrans('', '', '.,;:[]()\\'')) \n",
    "        #Remove extra whitespaces, stopwords and lemmatize\n",
    "        text = ' '.join(i.lower().strip() for i in lemmatize(text).split() if i not in clean_stopwords and len(i)>=2)\n",
    "        gdpr_clean[k][sub_k] = text"
   ]
  },
  {
   "cell_type": "code",
   "execution_count": 8,
   "metadata": {},
   "outputs": [],
   "source": [
    "with open('data/chunked_data/gdpr_clean.json', 'w') as f: \n",
    "    json.dump(gdpr_clean, f)"
   ]
  }
 ],
 "metadata": {
  "kernelspec": {
   "display_name": "Python 3",
   "language": "python",
   "name": "python3"
  },
  "language_info": {
   "codemirror_mode": {
    "name": "ipython",
    "version": 3
   },
   "file_extension": ".py",
   "mimetype": "text/x-python",
   "name": "python",
   "nbconvert_exporter": "python",
   "pygments_lexer": "ipython3",
   "version": "3.12.3"
  }
 },
 "nbformat": 4,
 "nbformat_minor": 2
}

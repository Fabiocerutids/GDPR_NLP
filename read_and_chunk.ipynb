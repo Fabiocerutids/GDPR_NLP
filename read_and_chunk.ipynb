{
 "cells": [
  {
   "cell_type": "code",
   "execution_count": 1,
   "metadata": {},
   "outputs": [],
   "source": [
    "import fitz \n",
    "import re\n",
    "import json \n",
    "from collections import defaultdict"
   ]
  },
  {
   "cell_type": "code",
   "execution_count": 2,
   "metadata": {},
   "outputs": [
    {
     "name": "stdout",
     "output_type": "stream",
     "text": [
      "Number of Pages available: 88\n",
      "Number of Tokens: 360940\n"
     ]
    }
   ],
   "source": [
    "doc = fitz.open('data/original_data/gdpr_text.pdf')\n",
    "print('Number of Pages available:', doc.page_count)\n",
    "full_text = ' '.join(page.get_text() for page in doc)\n",
    "print('Number of Tokens:', len(full_text))"
   ]
  },
  {
   "cell_type": "code",
   "execution_count": 3,
   "metadata": {},
   "outputs": [],
   "source": [
    "all_chapters = re.findall(r'CHAPTER .+\\n', full_text)\n",
    "all_articles = re.findall(r'\\nArticle [0-9]+ \\n', full_text)\n",
    "gdpr_chunked = defaultdict(dict)\n",
    "\n",
    "chapter_i_pos = re.search(fr'{all_chapters[0]}', full_text).span()\n",
    "gdpr_chunked['Legislative acts']['Regulation']=full_text[36:chapter_i_pos[0]].replace('\\n', '').strip()\n",
    "previous_start = chapter_i_pos[1]\n",
    "\n",
    "for ch in range(len(all_chapters)):\n",
    "    if ch != len(all_chapters)-1:\n",
    "        end_part = re.search(fr'{all_chapters[ch+1]}', full_text).span()[0]\n",
    "        next_start = re.search(fr'{all_chapters[ch+1]}', full_text).span()[1]\n",
    "        relevant_text = full_text[previous_start:end_part]\n",
    "    else:\n",
    "        relevant_text = full_text[previous_start:]\n",
    "        \n",
    "    chapt_name_idx = relevant_text.find('\\n')\n",
    "    for art in range(len(all_articles)-1):\n",
    "        if re.search(fr'{all_articles[art]}', relevant_text)!=None:\n",
    "            start_part_art = re.search(fr'{all_articles[art]}', relevant_text).span()[1]\n",
    "            if art != len(all_chapters)-1 and re.search(fr'{all_articles[art+1]}', relevant_text)!=None:\n",
    "                end_part_art = re.search(fr'{all_articles[art+1]}', relevant_text).span()[0]\n",
    "                art_text = relevant_text[start_part_art:end_part_art]\n",
    "                art_name_idx = art_text.find('\\n')\n",
    "                gdpr_chunked[relevant_text[:chapt_name_idx].strip()][art_text[:art_name_idx].strip()]=art_text[art_name_idx:].replace('\\n', '').strip()\n",
    "            else: \n",
    "                art_text=relevant_text[start_part_art:]\n",
    "                art_name_idx = art_text.find('\\n')\n",
    "                gdpr_chunked[relevant_text[:chapt_name_idx].strip()][art_text[:art_name_idx].strip()]=art_text[art_name_idx:].replace('\\n', '').strip()\n",
    "    \n",
    "    previous_start = next_start"
   ]
  },
  {
   "cell_type": "code",
   "execution_count": 4,
   "metadata": {},
   "outputs": [],
   "source": [
    "with open('data/chunked_data/gdpr_chunk.json', 'w') as f: \n",
    "    json.dump(gdpr_chunked, f)"
   ]
  }
 ],
 "metadata": {
  "kernelspec": {
   "display_name": "Python 3",
   "language": "python",
   "name": "python3"
  },
  "language_info": {
   "codemirror_mode": {
    "name": "ipython",
    "version": 3
   },
   "file_extension": ".py",
   "mimetype": "text/x-python",
   "name": "python",
   "nbconvert_exporter": "python",
   "pygments_lexer": "ipython3",
   "version": "3.12.3"
  }
 },
 "nbformat": 4,
 "nbformat_minor": 2
}
